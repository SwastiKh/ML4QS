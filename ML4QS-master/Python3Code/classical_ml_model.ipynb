{
  "cells": [
    {
      "cell_type": "code",
      "execution_count": 48,
      "metadata": {},
      "outputs": [],
      "source": [
        "import numpy as np\n",
        "import pandas as pd\n",
        "import matplotlib.pyplot as plt\n",
        "import seaborn as sns\n",
        "import sklearn\n",
        "import random\n",
        "import sklearn.metrics\n",
        "from sklearn.model_selection import train_test_split\n",
        "from sklearn.ensemble import RandomForestClassifier\n",
        "from sklearn.neighbors import KNeighborsClassifier\n"
      ]
    },
    {
      "cell_type": "code",
      "execution_count": 28,
      "metadata": {},
      "outputs": [
        {
          "data": {
            "text/plain": [
              "(1180, 152)"
            ]
          },
          "execution_count": 28,
          "metadata": {},
          "output_type": "execute_result"
        }
      ],
      "source": [
        "# Load the dataset\n",
        "# df = pd.read_csv('all_features.csv')\n",
        "# df = pd.read_csv('all_features.csv', low_memory=False)\n",
        "df = pd.read_csv(\"all_features.csv\", engine='python', error_bad_lines=False)\n",
        "\n",
        "\n",
        "# df = df.dropna()\n",
        "df.shape\n",
        "# df.head()\n"
      ]
    },
    {
      "cell_type": "code",
      "execution_count": 32,
      "id": "ee7f6b9f",
      "metadata": {},
      "outputs": [
        {
          "data": {
            "text/plain": [
              "burpees          236\n",
              "crunches         236\n",
              "squats           236\n",
              "jumping_jacks    236\n",
              "plank            236\n",
              "Name: exercise, dtype: int64"
            ]
          },
          "execution_count": 32,
          "metadata": {},
          "output_type": "execute_result"
        }
      ],
      "source": [
        "df['exercise'].value_counts()\n"
      ]
    },
    {
      "cell_type": "code",
      "execution_count": null,
      "id": "926bcdef",
      "metadata": {},
      "outputs": [
        {
          "name": "stdout",
          "output_type": "stream",
          "text": [
            "Number of unique exercises: 5\n",
            "Unique exercises: ['burpees' 'crunches' 'jumping_jacks' 'plank' 'squats']\n"
          ]
        },
        {
          "data": {
            "text/plain": [
              "acc_x_mean              0\n",
              "acc_x_std               0\n",
              "acc_x_min               0\n",
              "acc_x_max               0\n",
              "acc_x_range             0\n",
              "                       ..\n",
              "exercise_participant    0\n",
              "window_id               0\n",
              "start_time              0\n",
              "end_time                0\n",
              "duration                0\n",
              "Length: 152, dtype: int64"
            ]
          },
          "execution_count": 30,
          "metadata": {},
          "output_type": "execute_result"
        }
      ],
      "source": [
        "print(\"Number of unique exercises:\", df['exercise'].nunique())\n",
        "print(\"Unique exercises:\", df['exercise'].unique())\n",
        "# count nans\n",
        "df.isna().sum()\n",
        "df.dropna(subset=['exercise'], inplace=True)"
      ]
    },
    {
      "cell_type": "code",
      "execution_count": null,
      "id": "4bc4ee1b",
      "metadata": {},
      "outputs": [
        {
          "name": "stdout",
          "output_type": "stream",
          "text": [
            "Unique exercise codes: [0 1 2 3 4]\n",
            "Unique exercise codes: [0 1 2 3 4]\n"
          ]
        },
        {
          "data": {
            "text/html": [
              "<div>\n",
              "<style scoped>\n",
              "    .dataframe tbody tr th:only-of-type {\n",
              "        vertical-align: middle;\n",
              "    }\n",
              "\n",
              "    .dataframe tbody tr th {\n",
              "        vertical-align: top;\n",
              "    }\n",
              "\n",
              "    .dataframe thead th {\n",
              "        text-align: right;\n",
              "    }\n",
              "</style>\n",
              "<table border=\"1\" class=\"dataframe\">\n",
              "  <thead>\n",
              "    <tr style=\"text-align: right;\">\n",
              "      <th></th>\n",
              "      <th>acc_x_mean</th>\n",
              "      <th>acc_x_std</th>\n",
              "      <th>acc_x_min</th>\n",
              "      <th>acc_x_max</th>\n",
              "      <th>acc_x_range</th>\n",
              "      <th>acc_x_median</th>\n",
              "      <th>acc_x_q25</th>\n",
              "      <th>acc_x_q75</th>\n",
              "      <th>acc_x_iqr</th>\n",
              "      <th>acc_x_energy</th>\n",
              "      <th>...</th>\n",
              "      <th>mag_magnitude_max</th>\n",
              "      <th>exercise</th>\n",
              "      <th>participant</th>\n",
              "      <th>dataset</th>\n",
              "      <th>exercise_participant</th>\n",
              "      <th>window_id</th>\n",
              "      <th>start_time</th>\n",
              "      <th>end_time</th>\n",
              "      <th>duration</th>\n",
              "      <th>exercise_code</th>\n",
              "    </tr>\n",
              "  </thead>\n",
              "  <tbody>\n",
              "    <tr>\n",
              "      <th>0</th>\n",
              "      <td>-5.268432</td>\n",
              "      <td>1.904335</td>\n",
              "      <td>-8.247998</td>\n",
              "      <td>-2.079326</td>\n",
              "      <td>6.168672</td>\n",
              "      <td>-5.060676</td>\n",
              "      <td>-7.221321</td>\n",
              "      <td>-3.493510</td>\n",
              "      <td>3.727810</td>\n",
              "      <td>31.382871</td>\n",
              "      <td>...</td>\n",
              "      <td>45.875848</td>\n",
              "      <td>burpees</td>\n",
              "      <td>akshaye</td>\n",
              "      <td>burpees1</td>\n",
              "      <td>burpees_akshaye</td>\n",
              "      <td>0</td>\n",
              "      <td>0.001587</td>\n",
              "      <td>0.987596</td>\n",
              "      <td>0.986009</td>\n",
              "      <td>0</td>\n",
              "    </tr>\n",
              "    <tr>\n",
              "      <th>1</th>\n",
              "      <td>-3.654246</td>\n",
              "      <td>0.970385</td>\n",
              "      <td>-5.878725</td>\n",
              "      <td>-1.686393</td>\n",
              "      <td>4.192332</td>\n",
              "      <td>-3.688555</td>\n",
              "      <td>-4.445830</td>\n",
              "      <td>-2.825113</td>\n",
              "      <td>1.620717</td>\n",
              "      <td>14.295160</td>\n",
              "      <td>...</td>\n",
              "      <td>46.187853</td>\n",
              "      <td>burpees</td>\n",
              "      <td>akshaye</td>\n",
              "      <td>burpees1</td>\n",
              "      <td>burpees_akshaye</td>\n",
              "      <td>1</td>\n",
              "      <td>0.499570</td>\n",
              "      <td>1.485582</td>\n",
              "      <td>0.986011</td>\n",
              "      <td>0</td>\n",
              "    </tr>\n",
              "    <tr>\n",
              "      <th>2</th>\n",
              "      <td>-3.513426</td>\n",
              "      <td>2.537133</td>\n",
              "      <td>-5.908663</td>\n",
              "      <td>7.667356</td>\n",
              "      <td>13.576019</td>\n",
              "      <td>-4.312607</td>\n",
              "      <td>-4.863985</td>\n",
              "      <td>-3.077712</td>\n",
              "      <td>1.786273</td>\n",
              "      <td>18.781207</td>\n",
              "      <td>...</td>\n",
              "      <td>46.187853</td>\n",
              "      <td>burpees</td>\n",
              "      <td>akshaye</td>\n",
              "      <td>burpees1</td>\n",
              "      <td>burpees_akshaye</td>\n",
              "      <td>2</td>\n",
              "      <td>0.997556</td>\n",
              "      <td>1.983567</td>\n",
              "      <td>0.986010</td>\n",
              "      <td>0</td>\n",
              "    </tr>\n",
              "    <tr>\n",
              "      <th>3</th>\n",
              "      <td>-1.826836</td>\n",
              "      <td>3.515869</td>\n",
              "      <td>-5.908663</td>\n",
              "      <td>7.667356</td>\n",
              "      <td>13.576019</td>\n",
              "      <td>-2.703079</td>\n",
              "      <td>-4.847108</td>\n",
              "      <td>0.804764</td>\n",
              "      <td>5.651872</td>\n",
              "      <td>15.698666</td>\n",
              "      <td>...</td>\n",
              "      <td>46.085559</td>\n",
              "      <td>burpees</td>\n",
              "      <td>akshaye</td>\n",
              "      <td>burpees1</td>\n",
              "      <td>burpees_akshaye</td>\n",
              "      <td>3</td>\n",
              "      <td>1.495542</td>\n",
              "      <td>2.481551</td>\n",
              "      <td>0.986010</td>\n",
              "      <td>0</td>\n",
              "    </tr>\n",
              "    <tr>\n",
              "      <th>4</th>\n",
              "      <td>-0.713563</td>\n",
              "      <td>2.688073</td>\n",
              "      <td>-7.833959</td>\n",
              "      <td>5.494474</td>\n",
              "      <td>13.328433</td>\n",
              "      <td>-0.306413</td>\n",
              "      <td>-2.357747</td>\n",
              "      <td>0.837097</td>\n",
              "      <td>3.194844</td>\n",
              "      <td>7.734911</td>\n",
              "      <td>...</td>\n",
              "      <td>46.085559</td>\n",
              "      <td>burpees</td>\n",
              "      <td>akshaye</td>\n",
              "      <td>burpees1</td>\n",
              "      <td>burpees_akshaye</td>\n",
              "      <td>4</td>\n",
              "      <td>1.993527</td>\n",
              "      <td>2.979537</td>\n",
              "      <td>0.986011</td>\n",
              "      <td>0</td>\n",
              "    </tr>\n",
              "  </tbody>\n",
              "</table>\n",
              "<p>5 rows × 153 columns</p>\n",
              "</div>"
            ],
            "text/plain": [
              "   acc_x_mean  acc_x_std  acc_x_min  acc_x_max  acc_x_range  acc_x_median  \\\n",
              "0   -5.268432   1.904335  -8.247998  -2.079326     6.168672     -5.060676   \n",
              "1   -3.654246   0.970385  -5.878725  -1.686393     4.192332     -3.688555   \n",
              "2   -3.513426   2.537133  -5.908663   7.667356    13.576019     -4.312607   \n",
              "3   -1.826836   3.515869  -5.908663   7.667356    13.576019     -2.703079   \n",
              "4   -0.713563   2.688073  -7.833959   5.494474    13.328433     -0.306413   \n",
              "\n",
              "   acc_x_q25  acc_x_q75  acc_x_iqr  acc_x_energy  ...  mag_magnitude_max  \\\n",
              "0  -7.221321  -3.493510   3.727810     31.382871  ...          45.875848   \n",
              "1  -4.445830  -2.825113   1.620717     14.295160  ...          46.187853   \n",
              "2  -4.863985  -3.077712   1.786273     18.781207  ...          46.187853   \n",
              "3  -4.847108   0.804764   5.651872     15.698666  ...          46.085559   \n",
              "4  -2.357747   0.837097   3.194844      7.734911  ...          46.085559   \n",
              "\n",
              "   exercise  participant   dataset  exercise_participant  window_id  \\\n",
              "0   burpees      akshaye  burpees1       burpees_akshaye          0   \n",
              "1   burpees      akshaye  burpees1       burpees_akshaye          1   \n",
              "2   burpees      akshaye  burpees1       burpees_akshaye          2   \n",
              "3   burpees      akshaye  burpees1       burpees_akshaye          3   \n",
              "4   burpees      akshaye  burpees1       burpees_akshaye          4   \n",
              "\n",
              "   start_time  end_time  duration  exercise_code  \n",
              "0    0.001587  0.987596  0.986009              0  \n",
              "1    0.499570  1.485582  0.986011              0  \n",
              "2    0.997556  1.983567  0.986010              0  \n",
              "3    1.495542  2.481551  0.986010              0  \n",
              "4    1.993527  2.979537  0.986011              0  \n",
              "\n",
              "[5 rows x 153 columns]"
            ]
          },
          "execution_count": 56,
          "metadata": {},
          "output_type": "execute_result"
        }
      ],
      "source": [
        "# convert 'exercise' to categorical\n",
        "df['exercise'] = df['exercise'].astype('category')\n",
        "# convert 'exercise' to numerical codes\n",
        "df['exercise_code'] = df['exercise'].cat.codes\n",
        "# check the unique codes\n",
        "print(\"Unique exercise codes:\", df['exercise_code'].unique())\n",
        "# code mapping\n",
        "# exercise_mapping = dict(zip(df['exercise'].cat.categories, df['exercise'].cat.codes))\n",
        "# df['exercise_code'] = df['exercise'].map(exercise_mapping)\n",
        "# check the unique codes\n",
        "# print(\"Unique exercise codes:\", df['exercise_code'].unique())\n",
        "\n",
        "df.head()\n"
      ]
    },
    {
      "cell_type": "code",
      "execution_count": null,
      "id": "cd92046c",
      "metadata": {},
      "outputs": [
        {
          "name": "stdout",
          "output_type": "stream",
          "text": [
            "NaN values after dropping columns: 0\n"
          ]
        }
      ],
      "source": [
        "columns_to_drop = ['Unnamed: 0', 'Unnamed: 0.1', 'Unnamed: 0.1.1', 'exercise', 'participant' , 'dataset' , 'exercise_participant', 'gyro_x_mean', 'gyro_x_std', 'gyro_x_min', 'gyro_x_max', 'gyro_x_range',\n",
        "       'gyro_x_median', 'gyro_x_q25', 'gyro_x_q75', 'gyro_x_iqr',\n",
        "       'gyro_x_energy', 'gyro_x_rms', 'gyro_magnitude_mean',\n",
        "       'gyro_magnitude_std', 'gyro_magnitude_max']\n",
        "df.drop([col for col in columns_to_drop if col in df.columns], axis=1, inplace=True)\n",
        "# Check for NaN values again\n",
        "print(\"NaN values after dropping columns:\", df.isna().sum().sum())"
      ]
    },
    {
      "cell_type": "code",
      "execution_count": 65,
      "id": "27fc9fcb",
      "metadata": {},
      "outputs": [
        {
          "name": "stdout",
          "output_type": "stream",
          "text": [
            "Index([], dtype='object')\n"
          ]
        }
      ],
      "source": [
        "print(df.columns[df.isna().any()])\n"
      ]
    },
    {
      "cell_type": "code",
      "execution_count": 68,
      "id": "4d0953b0",
      "metadata": {},
      "outputs": [
        {
          "name": "stdout",
          "output_type": "stream",
          "text": [
            "Unexpected exception formatting exception. Falling back to standard exception\n"
          ]
        },
        {
          "name": "stderr",
          "output_type": "stream",
          "text": [
            "Traceback (most recent call last):\n",
            "  File \"c:\\Users\\skhur\\miniconda3\\envs\\mlqs\\lib\\site-packages\\IPython\\core\\interactiveshell.py\", line 3508, in run_code\n",
            "    exec(code_obj, self.user_global_ns, self.user_ns)\n",
            "  File \"C:\\Users\\skhur\\AppData\\Local\\Temp\\ipykernel_11092\\1717613252.py\", line 8, in <module>\n",
            "    sns.heatmap(corr, annot=True, fmt=\".2f\", cmap='coolwarm', square=True, cbar_kws={\"shrink\": .75})\n",
            "  File \"c:\\Users\\skhur\\miniconda3\\envs\\mlqs\\lib\\site-packages\\seaborn\\matrix.py\", line 446, in heatmap\n",
            "    plotter = _HeatMapper(data, vmin, vmax, cmap, center, robust, annot, fmt,\n",
            "  File \"c:\\Users\\skhur\\miniconda3\\envs\\mlqs\\lib\\site-packages\\seaborn\\matrix.py\", line 113, in __init__\n",
            "    mask = _matrix_mask(data, mask)\n",
            "  File \"c:\\Users\\skhur\\miniconda3\\envs\\mlqs\\lib\\site-packages\\seaborn\\matrix.py\", line 92, in _matrix_mask\n",
            "    mask = mask | pd.isnull(data)\n",
            "  File \"c:\\Users\\skhur\\miniconda3\\envs\\mlqs\\lib\\site-packages\\pandas\\core\\ops\\__init__.py\", line 767, in f\n",
            "  File \"c:\\Users\\skhur\\miniconda3\\envs\\mlqs\\lib\\site-packages\\pandas\\core\\frame.py\", line 5300, in _combine_frame\n",
            "    self,\n",
            "  File \"c:\\Users\\skhur\\miniconda3\\envs\\mlqs\\lib\\site-packages\\pandas\\core\\ops\\__init__.py\", line 374, in dispatch_to_series\n",
            "    ----------\n",
            "  File \"c:\\Users\\skhur\\miniconda3\\envs\\mlqs\\lib\\site-packages\\pandas\\core\\computation\\expressions.py\", line 17, in <module>\n",
            "    from pandas._typing import FuncType\n",
            "ImportError: cannot import name 'FuncType' from 'pandas._typing' (c:\\Users\\skhur\\miniconda3\\envs\\mlqs\\lib\\site-packages\\pandas\\_typing.py)\n",
            "\n",
            "During handling of the above exception, another exception occurred:\n",
            "\n",
            "Traceback (most recent call last):\n",
            "  File \"c:\\Users\\skhur\\miniconda3\\envs\\mlqs\\lib\\site-packages\\IPython\\core\\interactiveshell.py\", line 2105, in showtraceback\n",
            "    stb = self.InteractiveTB.structured_traceback(\n",
            "  File \"c:\\Users\\skhur\\miniconda3\\envs\\mlqs\\lib\\site-packages\\IPython\\core\\ultratb.py\", line 1396, in structured_traceback\n",
            "    return FormattedTB.structured_traceback(\n",
            "  File \"c:\\Users\\skhur\\miniconda3\\envs\\mlqs\\lib\\site-packages\\IPython\\core\\ultratb.py\", line 1287, in structured_traceback\n",
            "    return VerboseTB.structured_traceback(\n",
            "  File \"c:\\Users\\skhur\\miniconda3\\envs\\mlqs\\lib\\site-packages\\IPython\\core\\ultratb.py\", line 1140, in structured_traceback\n",
            "    formatted_exception = self.format_exception_as_a_whole(etype, evalue, etb, number_of_lines_of_context,\n",
            "  File \"c:\\Users\\skhur\\miniconda3\\envs\\mlqs\\lib\\site-packages\\IPython\\core\\ultratb.py\", line 1055, in format_exception_as_a_whole\n",
            "    frames.append(self.format_record(record))\n",
            "  File \"c:\\Users\\skhur\\miniconda3\\envs\\mlqs\\lib\\site-packages\\IPython\\core\\ultratb.py\", line 955, in format_record\n",
            "    frame_info.lines, Colors, self.has_colors, lvals\n",
            "  File \"c:\\Users\\skhur\\miniconda3\\envs\\mlqs\\lib\\site-packages\\IPython\\core\\ultratb.py\", line 778, in lines\n",
            "    return self._sd.lines\n",
            "  File \"c:\\Users\\skhur\\miniconda3\\envs\\mlqs\\lib\\site-packages\\stack_data\\utils.py\", line 145, in cached_property_wrapper\n",
            "    value = obj.__dict__[self.func.__name__] = self.func(obj)\n",
            "  File \"c:\\Users\\skhur\\miniconda3\\envs\\mlqs\\lib\\site-packages\\stack_data\\core.py\", line 698, in lines\n",
            "    pieces = self.included_pieces\n",
            "  File \"c:\\Users\\skhur\\miniconda3\\envs\\mlqs\\lib\\site-packages\\stack_data\\utils.py\", line 145, in cached_property_wrapper\n",
            "    value = obj.__dict__[self.func.__name__] = self.func(obj)\n",
            "  File \"c:\\Users\\skhur\\miniconda3\\envs\\mlqs\\lib\\site-packages\\stack_data\\core.py\", line 649, in included_pieces\n",
            "    pos = scope_pieces.index(self.executing_piece)\n",
            "  File \"c:\\Users\\skhur\\miniconda3\\envs\\mlqs\\lib\\site-packages\\stack_data\\utils.py\", line 145, in cached_property_wrapper\n",
            "    value = obj.__dict__[self.func.__name__] = self.func(obj)\n",
            "  File \"c:\\Users\\skhur\\miniconda3\\envs\\mlqs\\lib\\site-packages\\stack_data\\core.py\", line 628, in executing_piece\n",
            "    return only(\n",
            "  File \"c:\\Users\\skhur\\miniconda3\\envs\\mlqs\\lib\\site-packages\\executing\\executing.py\", line 164, in only\n",
            "    raise NotOneValueFound('Expected one value, found 0')\n",
            "executing.executing.NotOneValueFound: Expected one value, found 0\n"
          ]
        },
        {
          "data": {
            "text/plain": [
              "<Figure size 1200x800 with 0 Axes>"
            ]
          },
          "metadata": {},
          "output_type": "display_data"
        }
      ],
      "source": [
        "\n",
        "# Compute correlation matrix (excluding non-numeric columns automatically)\n",
        "# df_numeric = df.select_dtypes(include=['number'])\n",
        "# corr = df_numeric.corr()\n",
        "corr = df.corr()\n",
        "\n",
        "# Plot heatmap\n",
        "plt.figure(figsize=(12, 8))\n",
        "sns.heatmap(corr, annot=True, fmt=\".2f\", cmap='coolwarm', square=True, cbar_kws={\"shrink\": .75})\n",
        "plt.title('Correlation Matrix')\n",
        "plt.tight_layout()\n",
        "plt.show()\n"
      ]
    },
    {
      "cell_type": "code",
      "execution_count": 72,
      "id": "ee5e63cf",
      "metadata": {},
      "outputs": [],
      "source": [
        "# Define features and labels\n",
        "columns_to_drop=['exercise', 'participant' , 'dataset' , 'exercise_participant', 'gyro_x_mean', 'gyro_x_std', 'gyro_x_min', 'gyro_x_max', 'gyro_x_range',\n",
        "       'gyro_x_median', 'gyro_x_q25', 'gyro_x_q75', 'gyro_x_iqr',\n",
        "       'gyro_x_energy', 'gyro_x_rms', 'gyro_magnitude_mean',\n",
        "       'gyro_magnitude_std', 'gyro_magnitude_max', 'exercise_code']\n",
        "existing_cols_to_drop = [col for col in columns_to_drop if col in df.columns]\n",
        "X = df.drop(columns=existing_cols_to_drop, errors='ignore')\n",
        "\n",
        "y = df['exercise_code']\n",
        "\n",
        "\n",
        "# Train-test split\n",
        "X_train, X_test, y_train, y_test = train_test_split(X, y, test_size=0.2, random_state=23, stratify=y)\n",
        "\n",
        "\n",
        "# # Drop non-numeric or irrelevant columns\n",
        "# # columns_to_drop = ['exercise', 'participant', 'dataset', 'exercise_participant', 'window_id', 'start_time', 'end_time', 'duration']\n",
        "# columns_to_drop = ['exercise', 'participant' , 'dataset' , 'exercise_participant', 'gyro_x_mean', 'gyro_x_std', 'gyro_x_min', 'gyro_x_max', 'gyro_x_range',\n",
        "#        'gyro_x_median', 'gyro_x_q25', 'gyro_x_q75', 'gyro_x_iqr',\n",
        "#        'gyro_x_energy', 'gyro_x_rms', 'gyro_magnitude_mean',\n",
        "#        'gyro_magnitude_std', 'gyro_magnitude_max']\n",
        "# X = df.drop(columns=[col for col in columns_to_drop if col in df.columns], errors='ignore')\n",
        "\n",
        "# # Make sure all feature columns are numeric\n",
        "# X = X.apply(pd.to_numeric, errors='coerce')\n",
        "\n",
        "\n",
        "# nan_counts = X.isna().sum()\n",
        "# print(nan_counts[nan_counts > 0])\n",
        "\n",
        "\n",
        "# # Check for NaNs now\n",
        "# print(\"NaNs before split:\", X.isna().sum().sum())\n",
        "\n",
        "# # Drop rows with NaNs before train/test split\n",
        "# # X = X.dropna()\n",
        "# y = df.loc[X.index, 'exercise']  # Re-align y with cleaned X\n",
        "\n",
        "# # Split the data\n",
        "# from sklearn.model_selection import train_test_split\n",
        "# X_train, X_test, y_train, y_test = train_test_split(X, y, test_size=0.2, stratify=y, random_state=23)\n"
      ]
    },
    {
      "cell_type": "code",
      "execution_count": 38,
      "id": "b0d3c404",
      "metadata": {},
      "outputs": [
        {
          "name": "stdout",
          "output_type": "stream",
          "text": [
            "NaNs in X_train: 10024\n",
            "Infs in X_train: 0\n"
          ]
        }
      ],
      "source": [
        "print(\"NaNs in X_train:\", X_train.isna().sum().sum())\n",
        "print(\"Infs in X_train:\", np.isinf(X_train).sum().sum())\n"
      ]
    },
    {
      "cell_type": "code",
      "execution_count": 13,
      "id": "a82a8fc3",
      "metadata": {},
      "outputs": [
        {
          "name": "stdout",
          "output_type": "stream",
          "text": [
            "acc_x_mean                  float64\n",
            "acc_x_std                   float64\n",
            "acc_x_min                   float64\n",
            "acc_x_max                   float64\n",
            "acc_x_range                 float64\n",
            "                             ...   \n",
            "linear_acc_magnitude_std    float64\n",
            "linear_acc_magnitude_max    float64\n",
            "mag_magnitude_mean          float64\n",
            "mag_magnitude_std           float64\n",
            "mag_magnitude_max           float64\n",
            "Length: 144, dtype: object\n"
          ]
        }
      ],
      "source": [
        "print(X_train.dtypes)\n"
      ]
    },
    {
      "cell_type": "code",
      "execution_count": null,
      "id": "87fdfd18",
      "metadata": {},
      "outputs": [],
      "source": []
    },
    {
      "cell_type": "code",
      "execution_count": 73,
      "metadata": {},
      "outputs": [],
      "source": [
        "# Random Forest classification function\n",
        "def random_forest_classification(X_train, y_train, X_test, y_test, n_estimators=100, max_depth=10):\n",
        "    model = RandomForestClassifier(n_estimators=n_estimators, max_depth=max_depth, random_state=23)\n",
        "    model.fit(X_train, y_train)\n",
        "    predictions = model.predict(X_test)\n",
        "    accuracy = sklearn.metrics.accuracy_score(y_test, predictions)\n",
        "    return accuracy"
      ]
    },
    {
      "cell_type": "code",
      "execution_count": 74,
      "metadata": {},
      "outputs": [],
      "source": [
        "# KNN classification function\n",
        "def knn_classification(X_train, y_train, X_test, y_test, n_neighbors=5):\n",
        "    model = KNeighborsClassifier(n_neighbors=n_neighbors)\n",
        "    model.fit(X_train, y_train)\n",
        "    predictions = model.predict(X_test)\n",
        "    accuracy = sklearn.metrics.accuracy_score(y_test, predictions)\n",
        "    return accuracy"
      ]
    },
    {
      "cell_type": "code",
      "execution_count": 75,
      "metadata": {},
      "outputs": [
        {
          "name": "stdout",
          "output_type": "stream",
          "text": [
            "Random Forest Accuracy: 0.9788\n",
            "KNN Accuracy: 0.9322\n"
          ]
        }
      ],
      "source": [
        "# Run models and print results\n",
        "rf_acc = random_forest_classification(X_train, y_train, X_test, y_test)\n",
        "knn_acc = knn_classification(X_train, y_train, X_test, y_test)\n",
        "\n",
        "print(f'Random Forest Accuracy: {rf_acc:.4f}')\n",
        "print(f'KNN Accuracy: {knn_acc:.4f}')"
      ]
    },
    {
      "cell_type": "code",
      "execution_count": null,
      "id": "a2a213a6",
      "metadata": {},
      "outputs": [],
      "source": []
    }
  ],
  "metadata": {
    "kernelspec": {
      "display_name": "mlqs",
      "language": "python",
      "name": "python3"
    },
    "language_info": {
      "codemirror_mode": {
        "name": "ipython",
        "version": 3
      },
      "file_extension": ".py",
      "mimetype": "text/x-python",
      "name": "python",
      "nbconvert_exporter": "python",
      "pygments_lexer": "ipython3",
      "version": "3.8.20"
    }
  },
  "nbformat": 4,
  "nbformat_minor": 5
}
